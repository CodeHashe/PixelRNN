{
 "cells": [
  {
   "cell_type": "code",
   "execution_count": 14,
   "id": "99928c0b-f086-4cb8-ada6-55977bbb518d",
   "metadata": {},
   "outputs": [],
   "source": [
    "import os\n",
    "import pickle\n",
    "import torch\n",
    "import torch.nn as nn\n",
    "import torch.nn.functional as F\n",
    "from torch.utils.data import DataLoader, Dataset\n",
    "import torch.optim as optim\n",
    "import numpy as np\n"
   ]
  },
  {
   "cell_type": "code",
   "execution_count": 15,
   "id": "2d24f144-3320-4dd7-959a-76b7e88d0fe9",
   "metadata": {},
   "outputs": [],
   "source": [
    "class CIFAR10Dataset(Dataset):\n",
    "    def __init__(self, data_dir):\n",
    "        self.data = []\n",
    "        for batch_id in range(1, 6):\n",
    "            with open(os.path.join(data_dir, f'data_batch_{batch_id}'), 'rb') as f:\n",
    "                entry = pickle.load(f, encoding='bytes')\n",
    "                self.data.append(entry[b'data'])\n",
    "        self.data = np.vstack(self.data).reshape(-1, 3, 32, 32)\n",
    "        self.data = torch.tensor(self.data, dtype=torch.long)\n",
    "\n",
    "    def __len__(self):\n",
    "        return len(self.data)\n",
    "\n",
    "    def __getitem__(self, idx):\n",
    "        x = self.data[idx]\n",
    "        return x, x  # Input = Target for pixel prediction"
   ]
  },
  {
   "cell_type": "code",
   "execution_count": 16,
   "id": "c355dece-983a-4da8-8212-4a49a53341b7",
   "metadata": {},
   "outputs": [],
   "source": [
    "dataset_path = './datasets/cifar-10-batches-py'\n",
    "batch_size = 16\n",
    "\n",
    "# DataLoader\n",
    "dataset = CIFAR10Dataset(dataset_path)\n",
    "loader = DataLoader(dataset, batch_size=batch_size, shuffle=True)\n",
    "\n",
    "# RowLSTM block\n",
    "class RowLSTM(nn.Module):\n",
    "    def __init__(self, input_size, hidden_size, kernel_size=3):\n",
    "        super().__init__()\n",
    "        padding = kernel_size // 2\n",
    "        self.input_conv = nn.Conv2d(input_size, 4 * hidden_size, (1, kernel_size), padding=(0, padding))\n",
    "        self.hidden_conv = nn.Conv2d(hidden_size, 4 * hidden_size, (1, 1))\n",
    "        self.hidden_dim = hidden_size\n",
    "\n",
    "    def forward(self, x, h, c):\n",
    "        B, _, H, W = x.size()\n",
    "        outputs = []\n",
    "        for i in range(H):\n",
    "            x_row = x[:, :, i:i+1, :]\n",
    "            gates = self.input_conv(x_row) + self.hidden_conv(h)\n",
    "            o, f, i_gate, g = gates.chunk(4, dim=1)\n",
    "            o = torch.sigmoid(o)\n",
    "            f = torch.sigmoid(f)\n",
    "            i_gate = torch.sigmoid(i_gate)\n",
    "            g = torch.tanh(g)\n",
    "            c = f * c + i_gate * g\n",
    "            h = o * torch.tanh(c)\n",
    "            outputs.append(h)\n",
    "        return torch.cat(outputs, dim=2), h, c"
   ]
  },
  {
   "cell_type": "code",
   "execution_count": 17,
   "id": "8c21c07c-b75c-4a60-8a50-a434e5f3f064",
   "metadata": {},
   "outputs": [],
   "source": [
    "class PixelRNN(nn.Module):\n",
    "    def __init__(self, input_dim=3, hidden_dim=64, output_classes=256, num_layers=4):\n",
    "        super().__init__()\n",
    "        self.hidden_dim = hidden_dim\n",
    "        self.output_classes = output_classes\n",
    "        self.input_conv = nn.Conv2d(input_dim, hidden_dim, kernel_size=7, padding=3)\n",
    "        self.lstm_layers = nn.ModuleList([RowLSTM(hidden_dim, hidden_dim) for _ in range(num_layers)])\n",
    "        self.output_conv = nn.Conv2d(hidden_dim, input_dim * output_classes, kernel_size=1)\n",
    "\n",
    "    def forward(self, x):\n",
    "        B, C, H, W = x.size()\n",
    "        h = torch.zeros(B, self.hidden_dim, 1, W, device=x.device)\n",
    "        c = torch.zeros_like(h)\n",
    "\n",
    "        x = self.input_conv(x.float() / 255.0)\n",
    "        for lstm in self.lstm_layers:\n",
    "            x, h, c = lstm(x, h, c)\n",
    "        x = self.output_conv(x)\n",
    "        x = x.view(B, C, self.output_classes, H, W)\n",
    "        return x"
   ]
  },
  {
   "cell_type": "code",
   "execution_count": 18,
   "id": "c9f51d15-f978-4de5-872c-9ed929267548",
   "metadata": {},
   "outputs": [],
   "source": [
    "def train(model, loader, device, epochs=5):\n",
    "    model.train()\n",
    "    optimizer = optim.Adam(model.parameters(), lr=1e-3)\n",
    "    criterion = nn.CrossEntropyLoss()\n",
    "\n",
    "    for epoch in range(epochs):\n",
    "        total_loss = 0\n",
    "        for images, _ in loader:\n",
    "            images = images.to(device)\n",
    "            targets = images\n",
    "\n",
    "            outputs = model(images)\n",
    "\n",
    "            loss = 0\n",
    "            for c in range(3):\n",
    "                loss += criterion(outputs[:, c], targets[:, c])\n",
    "\n",
    "            optimizer.zero_grad()\n",
    "            loss.backward()\n",
    "            optimizer.step()\n",
    "            total_loss += loss.item()\n",
    "\n",
    "        print(f\"Epoch {epoch + 1}, Loss: {total_loss / len(loader):.4f}\")"
   ]
  },
  {
   "cell_type": "code",
   "execution_count": null,
   "id": "270c6841-4903-498c-8279-051c9ff3eaff",
   "metadata": {},
   "outputs": [
    {
     "name": "stdout",
     "output_type": "stream",
     "text": [
      "Starting training...\n"
     ]
    }
   ],
   "source": [
    "device = torch.device(\"cuda\")\n",
    "model = PixelRNN().to(device)\n",
    "\n",
    "print(\"Starting training...\")\n",
    "train(model, loader, device, epochs=5)"
   ]
  },
  {
   "cell_type": "code",
   "execution_count": 13,
   "id": "17da3afa-371c-4eb8-b62b-c30d85ff7cb1",
   "metadata": {},
   "outputs": [
    {
     "name": "stdout",
     "output_type": "stream",
     "text": [
      "CUDA available: True\n",
      "Current device: 0\n",
      "Device name: NVIDIA GeForce RTX 2080 Super\n"
     ]
    }
   ],
   "source": []
  },
  {
   "cell_type": "code",
   "execution_count": null,
   "id": "15218f17-2f5d-4f35-afae-b4756278a3a6",
   "metadata": {},
   "outputs": [],
   "source": []
  }
 ],
 "metadata": {
  "kernelspec": {
   "display_name": "Python 3 (ipykernel)",
   "language": "python",
   "name": "python3"
  },
  "language_info": {
   "codemirror_mode": {
    "name": "ipython",
    "version": 3
   },
   "file_extension": ".py",
   "mimetype": "text/x-python",
   "name": "python",
   "nbconvert_exporter": "python",
   "pygments_lexer": "ipython3",
   "version": "3.10.16"
  }
 },
 "nbformat": 4,
 "nbformat_minor": 5
}
